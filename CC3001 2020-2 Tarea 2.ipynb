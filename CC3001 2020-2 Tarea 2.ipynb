{
 "cells": [
  {
   "cell_type": "markdown",
   "metadata": {},
   "source": [
    "# CC3001 Primavera 2020 Tarea 2\n",
    "\n",
    "## Shellsort\n",
    "\n",
    "### Profesores\n",
    "Sección 1 Benjamín Bustos •\n",
    "Sección 2 Jérémy Barbay •\n",
    "Sección 3 Patricio Poblete / Nelson Baloian\n"
   ]
  },
  {
   "cell_type": "markdown",
   "metadata": {},
   "source": [
    "El objetivo de esta tarea es que usted implemente el algoritmo de ordenación Shellsort.\n",
    "\n",
    "Para describir cómo funciona Shellsort definamos una \"$d$-tajada\" de un arreglo como una subsecuencia de sus elementos tal que que cada uno de ellos está a $d$ casilleros de distancia del siguiente. Por ejemplo, en el siguiente diagrama se muestran en distintos colores las posible $3$-tajadas de un arreglo dado:\n",
    "\n",
    "![shellsort1](shellsort1.png)\n",
    "\n",
    "Noten que no todas las $d$-tajadas tienen necesariamente el mismo número de casilleros, y observen también que una \"$1$-tajada\" sería el arreglo completo.\n",
    "\n",
    "Una pasada de Shellsort consiste en elegir un valor de $d$ y luego aplicar ordenación por inserción a cada $d$-tajada por separado. El arreglo resultante se dice que está \"$d$-ordenado\". Por ejemplo, la siguiente figura muestra el arreglo anterior una vez que ha sido $3$-ordenado:\n",
    "\n",
    "![shellsort2](shellsort2.png)\n",
    "\n",
    "Para ordenar el arreglo completo, Shellsort hace una secuencia de pasadas, con un conjunto decreciente de valores $d_k,d_{k-1}, \\ldots,d_1$, con $d_1=1$. Esto último asegura que el arreglo quede finalmente ordenado, pero las pasadas anteriores contribuyen a acelerar el proceso, porque hay un teorema (que no les pedimos demostrar) que dice que si un arreglo que ya estaba $i$-ordenado se $j$-ordena, el arreglo resultante sigue estando $i$-ordenado. Esto es, una pasada no echa a perder lo que han hecho las anteriores."
   ]
  },
  {
   "cell_type": "markdown",
   "metadata": {},
   "source": [
    "# Recuerdo de la ordenación por inserción\n",
    "\n",
    "Recuerde que la ordenación por inserción está implementada en el apunte de la manera siguiente:"
   ]
  },
  {
   "cell_type": "code",
   "execution_count": 3,
   "metadata": {},
   "outputs": [],
   "source": [
    "def ordena_insercion(a):\n",
    "    \"\"\"Ordena el arreglo a por inserción\"\"\"\n",
    "    n=len(a)\n",
    "    for k in range(0,n):\n",
    "        insertar(a,k)\n",
    "        \n",
    "def insertar(a, k):\n",
    "    \"\"\"\n",
    "    Inserta a[k] entre los elementos anteriores\n",
    "    preservando el orden ascendente (versión 2)\n",
    "    \"\"\"\n",
    "    b=a[k] # b almacena transitoriamente al elemento a[k]\n",
    "    j=k # señala la posición del lugar \"vacío\"\n",
    "    while j>0 and b<a[j-1]:\n",
    "        a[j]=a[j-1]\n",
    "        j-=1\n",
    "    a[j]=b"
   ]
  },
  {
   "cell_type": "markdown",
   "metadata": {},
   "source": [
    "Probemos esto para asegurarnos que funcione bien:"
   ]
  },
  {
   "cell_type": "code",
   "execution_count": 4,
   "metadata": {},
   "outputs": [
    {
     "name": "stdout",
     "output_type": "stream",
     "text": [
      "[21 35 46 50 56 64 70 72 82 95]\n",
      "Arreglo ordenado OK.\n"
     ]
    }
   ],
   "source": [
    "import numpy as np\n",
    "\n",
    "def verifica_ordenado(a):\n",
    "    for i in range(0,len(a)-1):\n",
    "        assert a[i]<=a[i+1]\n",
    "    print(\"Arreglo ordenado OK.\")\n",
    "        \n",
    "A = np.array([46,35,95,21,82,70,72,56,64,50])\n",
    "ordena_insercion(A)\n",
    "print(A)\n",
    "verifica_ordenado(A)"
   ]
  },
  {
   "cell_type": "markdown",
   "metadata": {},
   "source": [
    "---\n",
    "# Lo que usted tiene que hacer:"
   ]
  },
  {
   "cell_type": "markdown",
   "metadata": {},
   "source": [
    "## 1) Programar la ordenación de una $d$-tajada\n",
    "\n",
    "Modifique el código anterior para que en lugar de ordenar el arreglo completo, ordene solo la $d$-tajada que comienza en el casillero $i$:"
   ]
  },
  {
   "cell_type": "code",
   "execution_count": null,
   "metadata": {},
   "outputs": [],
   "source": [
    "def ordena_tajada_insercion(a,i,d):\n",
    "    \"\"\"Ordena la d-tajada que comienza en a[i] por inserción.\"\"\"\n",
    "    # escriba aquí el código modificado"
   ]
  },
  {
   "cell_type": "markdown",
   "metadata": {},
   "source": [
    "Pruebe aquí que su algoritmo $3$-ordena correctamente los elementos amarillos:"
   ]
  },
  {
   "cell_type": "code",
   "execution_count": null,
   "metadata": {},
   "outputs": [],
   "source": [
    "A = np.array([46,35,95,21,82,70,72,56,64,50])\n",
    "ordena_tajada_insercion(A,2,3)\n",
    "print(A)"
   ]
  },
  {
   "cell_type": "markdown",
   "metadata": {},
   "source": [
    "## 2) Programar una pasada de Shellsort\n",
    "\n",
    "A continuación programe una función que haga una pasada de Shellsort, dado un arreglo $a$ y el valor de $d$. Esta función debe aplicar ``ordena_tajada_inserción`` sobre cada una de las $d$-tajadas de $a$. "
   ]
  },
  {
   "cell_type": "code",
   "execution_count": null,
   "metadata": {},
   "outputs": [],
   "source": [
    "def pasada_Shellsort(a,d):\n",
    "    \"\"\"Hace una pasada de Shellsort\"\"\""
   ]
  },
  {
   "cell_type": "markdown",
   "metadata": {},
   "source": [
    "Luego pruebe esto y comprueba que da el mismo resultado que el ejemplo más arriba:"
   ]
  },
  {
   "cell_type": "code",
   "execution_count": null,
   "metadata": {},
   "outputs": [],
   "source": [
    "A = np.array([46,35,95,21,82,70,72,56,64,50])\n",
    "pasada_Shellsort(A,3)\n",
    "print(A)"
   ]
  },
  {
   "cell_type": "markdown",
   "metadata": {},
   "source": [
    "## 3) Programar Shellsort\n",
    "\n",
    "Con esto ya estamos listos para programar Shellsort, haciendo una secuencia de pasadas, variando el valor de $d$ y terminando con $d=1$.Hay muchas formas conocidas de generar la secuencia de valores de $d$, con variados niveles de eficiencia. A continuación, programe Shellsort usando una secuencia decreciente de valores de la forma $d_k=2^k-1$, esto es: $\\ldots, 63, 31, 15, 7, 3, 1$. Se sabe que esta secuencia hace que Shellsort funcione en tiempo $\\Theta(n^{3/2})$:"
   ]
  },
  {
   "cell_type": "code",
   "execution_count": null,
   "metadata": {},
   "outputs": [],
   "source": [
    "def Shellsort(a):\n",
    "    \"\"\"Ordena a usando Shell Sort, con la secuencia de valores …,63,31,15,7,3,1\"\"\""
   ]
  },
  {
   "cell_type": "markdown",
   "metadata": {},
   "source": [
    "Pruebe aquí su algoritmo de la manera siguiente:"
   ]
  },
  {
   "cell_type": "code",
   "execution_count": null,
   "metadata": {},
   "outputs": [],
   "source": [
    "A = np.array([46,35,95,21,82,70,72,56,64,50])\n",
    "Shellsort(A)\n",
    "print(A)\n",
    "verifica_ordenado(A)"
   ]
  },
  {
   "cell_type": "markdown",
   "metadata": {},
   "source": [
    "En la siguiente celda agregue una prueba similar de ordenación de un arreglo de tamaño $1000$ generado al azar (sin imprimirlo):"
   ]
  },
  {
   "cell_type": "code",
   "execution_count": null,
   "metadata": {},
   "outputs": [],
   "source": []
  },
  {
   "cell_type": "markdown",
   "metadata": {},
   "source": [
    "## 4) Probar con una secuencia diferente de valores $d_k$\n",
    "\n",
    "Finalmente, investigue respecto de otras maneras de generar la secuencia $d_k$, escoja una secuencia en particular, modifique su versión de Shellsort que la use y pruébela."
   ]
  },
  {
   "cell_type": "code",
   "execution_count": null,
   "metadata": {},
   "outputs": [],
   "source": []
  },
  {
   "cell_type": "markdown",
   "metadata": {},
   "source": [
    "## ¿Qué hay que entregar?\n",
    "\n",
    "Usted debe entregar este mismo archivo, modificado de acuerdo a lo que se pide. Haga todos los cambios necesarios para explicar y documentar adecuadamente su código. Cite todas las fuentes de información utilizadas. No olvide poner su nombre."
   ]
  }
 ],
 "metadata": {
  "kernelspec": {
   "display_name": "Python 3",
   "language": "python",
   "name": "python3"
  },
  "language_info": {
   "codemirror_mode": {
    "name": "ipython",
    "version": 3
   },
   "file_extension": ".py",
   "mimetype": "text/x-python",
   "name": "python",
   "nbconvert_exporter": "python",
   "pygments_lexer": "ipython3",
   "version": "3.7.1"
  }
 },
 "nbformat": 4,
 "nbformat_minor": 2
}
