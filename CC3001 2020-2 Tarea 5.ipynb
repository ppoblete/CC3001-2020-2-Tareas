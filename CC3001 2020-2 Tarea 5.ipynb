{
 "cells": [
  {
   "cell_type": "markdown",
   "metadata": {},
   "source": [
    "# CC3001 Primavera 2020 Tarea 4\n",
    "# Inserción en la raíz en un ABB\n",
    "## Profesores\n",
    "Sección 1 Benjamin Bustos • Sección 2 Jérémy Barbay • Sección 3 Patricio Poblete / Nelson Baloian"
   ]
  },
  {
   "cell_type": "markdown",
   "metadata": {},
   "source": [
    "El algoritmo usual de inserción en un ABB realiza una búsqueda infurctuosa para la nueva llave, y la coloca en el lugar de la hoja en donde termina la búsqueda. Se dice que es una *inserción en las hojas*.\n",
    "\n",
    "Por contraposición, un algoritmo de *inserción en la raíz* deja la nueva llave como raíz del árbol resultante. En el apunte aparece un algoritmo de este tipo basado en *rotaciones*.\n",
    "\n",
    "El objetivo de esta tarea es implementar inserción en la raíz de un ABB usando un algoritmo alternativo, basado en la operación ``cut``(corte).\n",
    "\n",
    "Para comenzar, recordemos esta implementación del algoritmo de inserción usual (inserción en las hojas) adaptada del apunte:"
   ]
  },
  {
   "cell_type": "code",
   "execution_count": 4,
   "metadata": {},
   "outputs": [],
   "source": [
    "class Nodoi:\n",
    "    def __init__(self, izq, info, der):\n",
    "        self.izq=izq\n",
    "        self.info=info\n",
    "        self.der=der\n",
    "        \n",
    "    def insert(self,x):\n",
    "        assert x!=self.info\n",
    "        if x<self.info:\n",
    "            return Nodoi(self.izq.insert(x),self.info,self.der)\n",
    "        else:\n",
    "            return Nodoi(self.izq,self.info,self.der.insert(x))\n",
    "        \n",
    "    def __str__(self):\n",
    "        return \"(\"+self.izq.__str__()+str(self.info)+self.der.__str__()+\")\"\n",
    "\n",
    "class Nodoe:\n",
    "    def __init__(self):\n",
    "        pass\n",
    "    \n",
    "    def insert(self,x):\n",
    "        return Nodoi(Nodoe(),x,Nodoe())\n",
    "    \n",
    "    def __str__(self):\n",
    "        return\"☐\"\n",
    "\n",
    "class Arbol:\n",
    "    def __init__(self,raiz=Nodoe()):\n",
    "        self.raiz=raiz     \n",
    "        \n",
    "    def insert(self,x):\n",
    "        self.raiz=self.raiz.insert(x)\n",
    "    \n",
    "    def __str__(self):        \n",
    "        return self.raiz.__str__()"
   ]
  },
  {
   "cell_type": "markdown",
   "metadata": {},
   "source": [
    "Probemos este algoritmo con una secuencia de inserciones:"
   ]
  },
  {
   "cell_type": "code",
   "execution_count": 12,
   "metadata": {},
   "outputs": [
    {
     "name": "stdout",
     "output_type": "stream",
     "text": [
      "(((☐1☐)2(☐3☐))4(((☐5☐)6(☐7(☐8☐)))9☐))\n"
     ]
    }
   ],
   "source": [
    "lista=[4,9,6,2,7,1,8,3,5]\n",
    "a=Arbol()\n",
    "for x in lista:\n",
    "    a.insert(x)\n",
    "print(a)"
   ]
  },
  {
   "cell_type": "markdown",
   "metadata": {},
   "source": [
    "Para definir el algoritmo de inserción en la raíz, definimos primero la operación ``cut``. La idea es la siguiente: dado un árbol $A$ y una llave $x$ que no está en el árbol, el resultado de ejecutar $\\text{cut}(A,x)$ es una tupla $(A_{>x},A_{<x})$, que contiene como primera componente el árbol que contiene solo las llaves que son menores que $x$,y similarmente la segunda componente es el árbol con las llaves mayores que $x$. Por ejemplo:\n",
    "\n",
    "![T5-cut](T5-cut.png)\n",
    "\n",
    "La operación ``cut`` se puede definir recursivamente:\n",
    "\n",
    "Para el caso de un árbol no vacío con raíz $r$, con $x<r$:\n",
    "\n",
    "![T5-cut2](T5-cut2.png)\n",
    "\n",
    "El caso $x>r$ es simétrico.\n",
    "\n",
    "El caso de borde es que al hacer ``cut``de un nodo ☐, el resultado es una tupla (☐,☐).\n",
    "\n",
    "En base a esta operación ``cut``, es fácil definir una operación ``root_insert(x)``. En efecto, para insertar una nueva llave $x$ en la raíz de un árbol $A$, se hace un corte con $x$ al árbol $A$, y luego se construye el árbol\n",
    "\n",
    "![T5-cut3](T5-cut3.png)\n",
    "\n",
    "Modifique las clases provistas para agregar la operación ``cut(x)``y la operación ``root_insert``. Escriba acá su código:"
   ]
  },
  {
   "cell_type": "code",
   "execution_count": null,
   "metadata": {},
   "outputs": [],
   "source": []
  },
  {
   "cell_type": "markdown",
   "metadata": {},
   "source": [
    "A continuación, ejecute lo siguiente para probar su implementación:"
   ]
  },
  {
   "cell_type": "code",
   "execution_count": null,
   "metadata": {},
   "outputs": [],
   "source": [
    "lista=[4,9,6,2,7,1,8,3,5]\n",
    "a=Arbol()\n",
    "for x in reversed(lista):\n",
    "    a.root_insert(x)\n",
    "print(a)"
   ]
  },
  {
   "cell_type": "markdown",
   "metadata": {},
   "source": [
    "Si todo está bien, el resultado de insertar al lista reversaa usando ``root_insert``debería ser igual al obtenido insertando la lista originall usando ``insert``."
   ]
  },
  {
   "cell_type": "markdown",
   "metadata": {},
   "source": [
    "## ¿Qué hay que entregar?\n",
    "\n",
    "Usted debe entregar este mismo archivo, modificado de acuerdo a lo que se pide. Haga todos los cambios necesarios para explicar y documentar adecuadamente su código. No olvide poner su nombre."
   ]
  }
 ],
 "metadata": {
  "kernelspec": {
   "display_name": "Python 3",
   "language": "python",
   "name": "python3"
  },
  "language_info": {
   "codemirror_mode": {
    "name": "ipython",
    "version": 3
   },
   "file_extension": ".py",
   "mimetype": "text/x-python",
   "name": "python",
   "nbconvert_exporter": "python",
   "pygments_lexer": "ipython3",
   "version": "3.7.1"
  }
 },
 "nbformat": 4,
 "nbformat_minor": 2
}
