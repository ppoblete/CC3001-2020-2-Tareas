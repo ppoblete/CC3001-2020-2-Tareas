{
 "cells": [
  {
   "cell_type": "markdown",
   "metadata": {},
   "source": [
    "# CC3001 Primavera 2020 Tarea 4\n",
    "# Impresión de fórmulas representadas mediante árboles\n",
    "## Profesores\n",
    "Sección 1 Benjamin Bustos • Sección 2 Jérémy Barbay • Sección 3 Patricio Poblete / Nelson Baloian"
   ]
  },
  {
   "cell_type": "markdown",
   "metadata": {},
   "source": [
    "El objetivo de esta tarea es aprender a procesar la información de árboles que representan fórmulas. Hay muchas cosas que uno puede hacer con estos árboles, y en esta tarea nos enfocaremos en particular en imprimir la fórmula respectiva usando solo los paréntesis estrictamente necesarios (de acuerdo a las reglas indicadas en este enunciado).\n",
    "\n",
    "Específicamente, el problema es: dado un árbol que representa una fórmula, imprimirla utilizando solo los paréntesis necesarios para que sea interpretada correctamente, de acuerdo a las reglas de prioridad y de asociatividad de operadores.\n",
    "\n",
    "Los operadores de menor prioridad son la suma (``+``) y la resta (``-``), de igual prioridad entre sí, luego vienen la multiplicación (``*``) y la división (``/``), también de igual prioridad entre sí, y finalmente el operador de mayor prioridad es la elevación a potencia (``^``). Todos los operadores asocian hacia la izquierda, excepto la elevación a potencia, que asocia hacia la derecha. Para simplificar no usaremos el operador \"menos unario\".\n",
    "\n",
    "La diferencia de prioridad hace que para imprimir este árbol no se necesiten paréntesis:\n",
    "\n",
    "```\n",
    "     +\n",
    "    / \\\n",
    "   *   /     ==> a*b+c/d\n",
    "  / \\ / \\\n",
    "  a b c d\n",
    "```\n",
    "\n",
    "mientras que en este otro sí haya que parentizar:\n",
    "\n",
    "```\n",
    "     *\n",
    "    / \\\n",
    "   +   -     ==> (a+b)*(c-d)\n",
    "  / \\ / \\\n",
    "  a b c d\n",
    "```\n",
    "\n",
    "La asociatividad hacia la izquierda entre operadores de igual prioridad hace que en este árbol la sub-fórmula del lado izquierdo no necesite paréntesis, pero la del lado derecho, sí:\n",
    "\n",
    "```\n",
    "     -\n",
    "    / \\\n",
    "   +   -     ==> a+b-(c-d)\n",
    "  / \\ / \\\n",
    "  a b c d\n",
    "```\n",
    "\n",
    "En el caso de la elevación a potencia, la asociatividad es hacia la derecha, así que en ese caso es la sub-fórmula izquierda la que necesita paréntesis:\n",
    "\n",
    "\n",
    "```\n",
    "     ^\n",
    "    / \\\n",
    "   ^   ^     ==> (a^b)^c^d\n",
    "  / \\ / \\\n",
    "  a b c d\n",
    "```\n",
    "\n",
    "\n",
    "El objetivo de esta tarea es que usted implemente una función que, dado un árbol ya construído, lo recorra para imprimir la fórmula respectiva usando solo los paréntesis estrictamente necesarios, de acuerdo a las reglas recién señaladas.\n",
    "\n",
    "A continuación usted encontrará las clases ``Nodoi``, ``Nodoe`` y ``Arbol`` que implementan árboles que representan fórmulas. La clase ``Arbol`` viene con un constructor que recibe un string como parámetro, el cual contiene una fórmula, y este constructor se encarga de transformar la fórmula de string a árbol, de modo que usted no necesita preocuparse de eso. Para simplificar, la fórmula solo podrá contener variables de una sola letra, números de un solo dígito, y sin espacios.\n",
    "\n",
    "Usted tiene que implementar para la clase ``Arbol`` y para los nodos una función ``infijo`` que al ser invocada retorne un string que contenga la fórmula respectiva en al notación usual (infijo) solo con los paréntesis estrictamente necesarios.\n",
    "\n",
    "Para ayudarlo, la clase viene con una función ``infijo`` que retorna la fórmula **con todos los paréntesis posibles**. Usted tiene que reemplazarla por lo que realmente se pide."
   ]
  },
  {
   "cell_type": "code",
   "execution_count": null,
   "metadata": {},
   "outputs": [],
   "source": [
    "class Nodoi:\n",
    "    def __init__(self, izq, info, der):\n",
    "        self.izq=izq\n",
    "        self.info=info\n",
    "        self.der=der\n",
    "    def postorden(self):\n",
    "        self.izq.postorden()   \n",
    "        self.der.postorden()\n",
    "        print(self.info, end=\" \")\n",
    "    def infijo(self):\n",
    "        # Esta función la tiene que escribir usted\n",
    "        # Por mientras, retorna la fórmula hiper parentizada\n",
    "        return \"(\"+self.izq.infijo()+self.info+self.der.infijo()+\")\"\n",
    "\n",
    "class Nodoe:\n",
    "    def __init__(self, info):\n",
    "        self.info=info\n",
    "    def postorden(self):\n",
    "        print(self.info, end=\" \")\n",
    "    def infijo(self):\n",
    "        # Esta función la tiene que escribir usted\n",
    "        # Por mientras, retorna la fórmula hiper parentizada\n",
    "        return \"(\"+self.info+\")\"\n",
    "\n",
    "class Arbol:\n",
    "    def __init__(self,formula):\n",
    "        global k\n",
    "        global s\n",
    "        s=formula+\";\" # agregamos una marca de fin de la entrada\n",
    "        k=0 # indica próximo caracter por procesar\n",
    "        # definimos funciones para analizar la fórmula\n",
    "        def expresion(): # retorna puntero a la raíz de un árbol que representa a la fórmula s\n",
    "            global k\n",
    "            global s\n",
    "            a=factor()\n",
    "            while s[k]==\"+\" or s[k]==\"-\":\n",
    "                op=s[k]\n",
    "                k+=1\n",
    "                b=factor()\n",
    "                a=Nodoi(a,op,b)\n",
    "            return a\n",
    "        def factor():\n",
    "            global k\n",
    "            global s\n",
    "            a=termino()\n",
    "            while s[k]==\"*\" or s[k]==\"/\":\n",
    "                op=s[k]\n",
    "                k+=1\n",
    "                b=termino()\n",
    "                a=Nodoi(a,op,b)\n",
    "            return a\n",
    "        def termino():\n",
    "            global k\n",
    "            global s\n",
    "            a=primario()\n",
    "            if s[k]==\"^\":\n",
    "                op=s[k]\n",
    "                k+=1\n",
    "                b=termino()\n",
    "                a=Nodoi(a,op,b)\n",
    "            return a\n",
    "        def primario(): # posible constante, variable o formula parentizada\n",
    "            global k\n",
    "            global s\n",
    "            if s[k].isalpha() or s[k].isdigit():\n",
    "                a=Nodoe(s[k])\n",
    "                k+=1\n",
    "                return a\n",
    "            if s[k]==\"(\": # fórmula parentizada\n",
    "                k+=1\n",
    "                a=expresion()\n",
    "                if s[k]!=\")\":\n",
    "                    print(\"Error: Falta cierra paréntesis: \"+formula[k:])\n",
    "                    assert False\n",
    "                k+=1\n",
    "                return a\n",
    "            print(\"Error: Falta variable, número o abre paréntesis: \"+formula[k:])\n",
    "            assert False\n",
    "              \n",
    "        a=expresion()\n",
    "        if s[k]!=\";\":\n",
    "            print(\"Error: Basura al final de la fórmula: \"+formula[k:])\n",
    "            assert False                \n",
    "        self.raiz=a\n",
    "            \n",
    "    def postorden(self):\n",
    "        print(\"Postorden:\", end=\" \")\n",
    "        self.raiz.postorden()\n",
    "        print()\n",
    "    \n",
    "    def infijo(self):\n",
    "        # Esta función la tiene que escribir usted\n",
    "        # Por mientras, retorna la fórmula hiper parentizada\n",
    "        return self.raiz.infijo()"
   ]
  },
  {
   "cell_type": "markdown",
   "metadata": {},
   "source": [
    "A continuación probamos esta funcionalidad con varias fórmulas de ejemplo. Para ver si el árbol fue construido correctamente, también lo recorremos en postorden para imprimirlo en notación polaca. (**Importante**: La notación polaca no tiene nada que ver con lo que ustedes tienen que hacer, es solo una manera de poder imprimir el árbol generado para chequear que esté bien construido).\n",
    "A continuación se imprime la fórmula en la notación de infijo generada."
   ]
  },
  {
   "cell_type": "code",
   "execution_count": 20,
   "metadata": {},
   "outputs": [],
   "source": [
    "def probar(formula):\n",
    "    f=Arbol(formula)\n",
    "    f.postorden()\n",
    "    print(\"Infijo:\", f.infijo())"
   ]
  },
  {
   "cell_type": "code",
   "execution_count": 21,
   "metadata": {
    "scrolled": true
   },
   "outputs": [
    {
     "name": "stdout",
     "output_type": "stream",
     "text": [
      "Postorden: a b * c d / + \n",
      "Infijo: (((a)*(b))+((c)/(d)))\n"
     ]
    }
   ],
   "source": [
    "probar(\"a*b+(c/d)\")"
   ]
  },
  {
   "cell_type": "code",
   "execution_count": 22,
   "metadata": {},
   "outputs": [
    {
     "name": "stdout",
     "output_type": "stream",
     "text": [
      "Postorden: a b + c d - * \n",
      "Infijo: (((a)+(b))*((c)-(d)))\n"
     ]
    }
   ],
   "source": [
    "probar(\"(a+b)*(c-d)\")"
   ]
  },
  {
   "cell_type": "code",
   "execution_count": 23,
   "metadata": {},
   "outputs": [
    {
     "name": "stdout",
     "output_type": "stream",
     "text": [
      "Postorden: a b + c d - - \n",
      "Infijo: (((a)+(b))-((c)-(d)))\n"
     ]
    }
   ],
   "source": [
    "probar(\"(a+b)-(c-d)\")"
   ]
  },
  {
   "cell_type": "code",
   "execution_count": 24,
   "metadata": {},
   "outputs": [
    {
     "name": "stdout",
     "output_type": "stream",
     "text": [
      "Postorden: a b ^ c d ^ ^ \n",
      "Infijo: (((a)^(b))^((c)^(d)))\n"
     ]
    }
   ],
   "source": [
    "probar(\"(a^b)^(c^d)\")"
   ]
  },
  {
   "cell_type": "markdown",
   "metadata": {},
   "source": [
    "## Pruebas adicionales\n",
    "\n",
    "En esta sección se le pide que usted pruebe su programa con las fórmulas que se le entregan, y que invente dos ejemplos adicionales."
   ]
  },
  {
   "cell_type": "code",
   "execution_count": null,
   "metadata": {},
   "outputs": [],
   "source": [
    "probar(\"a^b*c^d-e^f/g^h\")"
   ]
  },
  {
   "cell_type": "code",
   "execution_count": null,
   "metadata": {},
   "outputs": [],
   "source": [
    "probar(\"((a-b)*(c+d))^((e+f)/(g-h))\")"
   ]
  },
  {
   "cell_type": "code",
   "execution_count": null,
   "metadata": {},
   "outputs": [],
   "source": [
    "probar(\"1+(2/3)^4\")"
   ]
  },
  {
   "cell_type": "code",
   "execution_count": null,
   "metadata": {},
   "outputs": [],
   "source": [
    "probar(\"2^(4-a)^3*5\")"
   ]
  },
  {
   "cell_type": "code",
   "execution_count": null,
   "metadata": {},
   "outputs": [],
   "source": []
  },
  {
   "cell_type": "code",
   "execution_count": null,
   "metadata": {},
   "outputs": [],
   "source": []
  },
  {
   "cell_type": "markdown",
   "metadata": {},
   "source": [
    "## ¿Qué hay que entregar?\n",
    "\n",
    "Usted debe entregar este mismo archivo, modificado de acuerdo a lo que se pide. Haga todos los cambios necesarios para explicar y documentar adecuadamente su código. No olvide poner su nombre."
   ]
  }
 ],
 "metadata": {
  "kernelspec": {
   "display_name": "Python 3",
   "language": "python",
   "name": "python3"
  },
  "language_info": {
   "codemirror_mode": {
    "name": "ipython",
    "version": 3
   },
   "file_extension": ".py",
   "mimetype": "text/x-python",
   "name": "python",
   "nbconvert_exporter": "python",
   "pygments_lexer": "ipython3",
   "version": "3.7.1"
  }
 },
 "nbformat": 4,
 "nbformat_minor": 2
}
