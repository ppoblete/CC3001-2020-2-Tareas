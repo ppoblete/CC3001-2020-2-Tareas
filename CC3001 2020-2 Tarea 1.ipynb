{
 "cells": [
  {
   "cell_type": "markdown",
   "metadata": {},
   "source": [
    "# CC3001 Primavera 2020 Tarea 1\n",
    "\n",
    "## Marcador de tenis\n",
    "\n",
    "### Profesores\n",
    "Sección 1 Benjamín Bustos •\n",
    "Sección 2 Jérémy Barbay •\n",
    "Sección 3 Patricio Poblete / Nelson Baloian\n",
    "\n",
    "Plazo: Lunes 14 de septiembre de 2020 a las 23:59\n",
    "\n",
    "![marcador-tenis](marcador-tenis.png)"
   ]
  },
  {
   "cell_type": "markdown",
   "metadata": {},
   "source": [
    "El objetivo de esta tarea es que usted implemente un sistema para que el árbitro de un partido de tenis vaya anotando quién gana cada pelota que se juega, y que a partir de esto se lleve actualizado el marcador del juego. Para simplificar, solo se pide llevar el marcador durante un juego, y no para el set ni para el match. También vamos a suponer que los jugadores son \"A\" y \"B\", con \"A\" al servicio. En la cuenta, la primera cifra corresponde a \"A\" y la segunda a \"B\".\n",
    "\n",
    "El marcador en un juego comienza \"0-0\". Luego, con cada pelota ganada va avanzando a \"15\", \"30\", \"40\", \"juego\", pero para ganar el juego hay que tener diferencia de dos pelotas ganadas respecto del oponente, de modo que si se llega a \"40-40\", el siguiente paso es \"ventaja\" y de ahí a \"juego\", si se gana la siguiente pelota, o se vuelve a \"iguales\", si se pierde.\n",
    "\n",
    "El siguiente programa implementa una versión simplificada de esto, en que gana el que primero llega a 3, lo cual serviría para ir contando sets ganados en un partido \"al mejor de 5\":"
   ]
  },
  {
   "cell_type": "code",
   "execution_count": 4,
   "metadata": {},
   "outputs": [],
   "source": [
    "def marcador(jugadorA, jugadorB):\n",
    "    print(\"Juegan\", jugadorA, \"vs.\", jugadorB)\n",
    "    puntosA=0\n",
    "    puntosB=0\n",
    "    while True:\n",
    "        print(\"Marcador: \", puntosA, \"-\", puntosB)\n",
    "        if puntosA==3 or puntosB==3:\n",
    "            break\n",
    "        x=input(\"Ingrese A o B: \").upper()\n",
    "        if x==\"A\":\n",
    "            puntosA+=1\n",
    "        elif x==\"B\":\n",
    "            puntosB+=1\n",
    "        else:\n",
    "            print(\"Error: jugador desconocido:\", x)\n",
    "    if puntosA==3:\n",
    "        print(\"Gana\", jugadorA)\n",
    "    else:\n",
    "        print(\"Gana\", jugadorB)"
   ]
  },
  {
   "cell_type": "code",
   "execution_count": 6,
   "metadata": {},
   "outputs": [
    {
     "name": "stdout",
     "output_type": "stream",
     "text": [
      "Juegan Federer vs. Nadal\n",
      "Marcador:  0 - 0\n",
      "Ingrese A o B: b\n",
      "Marcador:  0 - 1\n",
      "Ingrese A o B: A\n",
      "Marcador:  1 - 1\n",
      "Ingrese A o B: b\n",
      "Marcador:  1 - 2\n",
      "Ingrese A o B: a\n",
      "Marcador:  2 - 2\n",
      "Ingrese A o B: a\n",
      "Marcador:  3 - 2\n",
      "Gana Federer\n"
     ]
    }
   ],
   "source": [
    "marcador(\"Federer\",\"Nadal\")"
   ]
  },
  {
   "cell_type": "markdown",
   "metadata": {},
   "source": [
    "Tomando como base este código, escriba a continuación un programa que implemente lo que se pide, y pruébelo con la siguiente secuencia de entrada.\n",
    "\n",
    "```\n",
    "A A B A B B B A A B B B\n",
    "```\n",
    "\n",
    "Además, invente varias otras secuencias y muestre también sus resultados. "
   ]
  },
  {
   "cell_type": "markdown",
   "metadata": {},
   "source": [
    "## ¿Qué hay que entregar?\n",
    "\n",
    "Usted debe entregar este mismo archivo, modificado de acuerdo a lo que se pide. Haga todos los cambios necesarios para explicar y documentar adecuadamente su código. No olvide poner su nombre."
   ]
  }
 ],
 "metadata": {
  "kernelspec": {
   "display_name": "Python 3",
   "language": "python",
   "name": "python3"
  },
  "language_info": {
   "codemirror_mode": {
    "name": "ipython",
    "version": 3
   },
   "file_extension": ".py",
   "mimetype": "text/x-python",
   "name": "python",
   "nbconvert_exporter": "python",
   "pygments_lexer": "ipython3",
   "version": "3.7.1"
  }
 },
 "nbformat": 4,
 "nbformat_minor": 2
}
