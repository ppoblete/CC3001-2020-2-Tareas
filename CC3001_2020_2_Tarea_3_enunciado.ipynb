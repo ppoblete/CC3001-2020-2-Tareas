{
 "cells": [
  {
   "cell_type": "markdown",
   "metadata": {
    "id": "jRX7kOrTBd4u"
   },
   "source": [
    "# CC3001 Primavera 2020 Tarea 3\n",
    "## Multiplicación de Polinomios\n",
    "## Profesores\n",
    "Sección 1 Benjamin Bustos • Sección 2 Jérémy Barbay • Sección 3 Patricio Poblete / Nelson Baloian"
   ]
  },
  {
   "cell_type": "markdown",
   "metadata": {},
   "source": [
    "El objetivo de esta tarea es implementar y comparar los dos algoritmos de multiplicación de polinomios que aparecen en el apunte: el algoritmo por fuerza bruta y el que utiliza la técnica de diseño \"Dividir para Reinar\", que de acuerdo al análisis realizado toma tiempo $\\Theta(n^{1.59})$. Para esta tarea, los coeficientes a considerar son de tipo entero."
   ]
  },
  {
   "cell_type": "markdown",
   "metadata": {},
   "source": [
    "## Algoritmo cuadrático"
   ]
  },
  {
   "cell_type": "markdown",
   "metadata": {},
   "source": [
    "La función ``multpol`` implementa el algoritmo de multiplicación de polinomios por fuerza bruta, que toma tiempo $\\Theta(n^2)$."
   ]
  },
  {
   "cell_type": "code",
   "execution_count": 6,
   "metadata": {
    "id": "UoZwKb5xBYDF"
   },
   "outputs": [],
   "source": [
    "import numpy as np\n",
    "\n",
    "def multpol(a, b):\n",
    "    '''\n",
    "    multpol: array array -> array\n",
    "    Recibe dos arreglos, a y b, que contienen los coeficientes de los polinomios\n",
    "    (valores enteros), y devuelve un arreglo con los coeficientes resultantes de\n",
    "    multiplicar ambos polinomios. Ambos arreglos deben tener el mismo largo\n",
    "    Ejemplo: \n",
    "    Sea pol1 = [-1, 2, -3, 4] el arreglo que representa al polinomio -1 + 2x -3x**2 + 4x**3\n",
    "    Sea pol2 = [0, 0, 0, 2] el arreglo que representa al polinomio 2x**3\n",
    "    multpol(pol1, pol2) devuelve el arreglo [0, 0, 0, -2, 4, -6, 8], que corresponde al\n",
    "    polinomio -2x**3 + 4x**4 - 6x**5 + 8x**6\n",
    "    '''\n",
    "    n = len(a)\n",
    "    assert len(b) == n\n",
    "    c = np.zeros(2 * n - 1, dtype = int)\n",
    "    for i in range(0, n):\n",
    "        for j in range(0, n):\n",
    "            c[i + j] += a[i] * b[j]\n",
    "    return c\n",
    "\n",
    "# Test\n",
    "pol1 = np.array([-1, 2, -3, 4], dtype = int)\n",
    "pol2 = np.array([0, 0, 0, 2], dtype = int)\n",
    "resultado = np.array([0, 0, 0, -2, 4, -6, 8], dtype = int)\n",
    "assert np.array_equal(multpol(pol1, pol2), resultado)"
   ]
  },
  {
   "cell_type": "code",
   "execution_count": 7,
   "metadata": {
    "colab": {
     "base_uri": "https://localhost:8080/",
     "height": 52
    },
    "id": "nPtSGXDrBxFH",
    "outputId": "453e08a4-4407-4eac-f036-fe8d2118c568"
   },
   "outputs": [
    {
     "data": {
      "text/plain": [
       "array([  2,   1,  -3,  18,  -6,   3, -19,  19,  23,  -9,  19,   0,  -2,\n",
       "         8,   2])"
      ]
     },
     "execution_count": 7,
     "metadata": {},
     "output_type": "execute_result"
    }
   ],
   "source": [
    "multpol(np.array([2, 3, -6, 1, 2, 0, 4, 1], dtype = int), np.array([1, -1, 3, 1, 4, -2, 0, 2], dtype = int))\n"
   ]
  },
  {
   "cell_type": "markdown",
   "metadata": {},
   "source": [
    "## Algoritmo basado en Dividir para Reinar"
   ]
  },
  {
   "cell_type": "markdown",
   "metadata": {},
   "source": [
    "A continuación, implemente el algoritmo de multiplicación de polinomios que utiliza tres multiplicaciones recursivas, que toma tiempo $\\Theta(n^{1.59})$. Para implementar este algoritmo, puede suponer que el tamaño de los arreglos es siempre una potencia de 2."
   ]
  },
  {
   "cell_type": "code",
   "execution_count": null,
   "metadata": {},
   "outputs": [],
   "source": [
    "import numpy as np\n",
    "\n",
    "def multpol2(a, b):\n",
    "    '''\n",
    "    multpol2: array array -> array\n",
    "    Recibe dos arreglos, a y b, que contienen los coeficientes de los polinomios\n",
    "    (valores enteros), y devuelve un arreglo con los coeficientes resultantes de\n",
    "    multiplicar ambos polinomios. Utiliza el algoritmo recursivo basado en\n",
    "    Dividir para Reinar visto en catedra, que realiza tres llamados recursivos.\n",
    "    Ambos arreglos deben tener el mismo largo\n",
    "    Ejemplo: \n",
    "    Sea pol1 = [2, 3, -6, 1, 2, 0, 4, 1] el arreglo que representa al\n",
    "    polinomio 2 + 3x - 6x**2 + x**3 + 2x**4 + 4x**6 + x**7\n",
    "    Sea pol2 = [1, -1, 3, 1, 4, -2, 0, 2] el arreglo que representa al\n",
    "    polinomio 1 - x + 3x**2 + x**3 + 4x**4 - 2x**5 + 2x**7\n",
    "    multpol(pol1, pol2) devuelve el arreglo\n",
    "    [2, 1, -3, 18, -6, 3, -19, 19, 23, -9, 19, 0, -2, 8, 2], que corresponde al\n",
    "    polinomio 2 + x - 3x**2 + 18x**3 - 6x**4 + 3x**5 - 19x**6 + 19x**7 + 23x**8 - \n",
    "    9x**9 + 19x**10 - 2x**12 + 8x*13 + 2x**14 \n",
    "    '''\n",
    "    # Implemente su algoritmo aqui\n",
    "    \n",
    "# Tests\n",
    "pol1 = np.array([-1, 2, -3, 4], dtype = int)\n",
    "pol2 = np.array([0, 0, 0, 2], dtype = int)\n",
    "resultado = np.array([0, 0, 0, -2, 4, -6, 8], dtype = int)\n",
    "assert np.array_equal(multpol2(pol1, pol2), resultado)\n",
    "pol1 = np.array([2,3,-6,1,2,0,4,1], dtype = int)\n",
    "pol2 = np.array([1,-1,3,1,4,-2,0,2], dtype = int)\n",
    "resultado = np.array([2, 1, -3, 18, -6, 3, -19, 19, 23, -9, 19, 0, -2, 8, 2], dtype = int)\n",
    "assert np.array_equal(multpol2(pol1, pol2), resultado)"
   ]
  },
  {
   "cell_type": "markdown",
   "metadata": {
    "id": "c13tCF1QB530"
   },
   "source": [
    "Ahora, muestre ejemplos de uso de su función ``multpol2``, mostrando el resultado para al menos cuatro ejemplos distintos de multiplicaciones de polinomios, con grados de polinomios distintos para cada ejemplo."
   ]
  },
  {
   "cell_type": "code",
   "execution_count": null,
   "metadata": {
    "id": "oLyJICGcB1kt"
   },
   "outputs": [],
   "source": [
    "# Implemente sus ejemplos de uso aquí"
   ]
  },
  {
   "cell_type": "markdown",
   "metadata": {
    "id": "xYZGIRf-Dv9W"
   },
   "source": [
    "# Comparación de ambos algoritmos para $n$ grande"
   ]
  },
  {
   "cell_type": "markdown",
   "metadata": {},
   "source": [
    "La función ``%timeit`` de Python permite medir el tiempo tomado para la ejecución de una función. Por ejemplo, el siguiente código genera dos polinomios representados por arreglos aleatorios de tamaño $n$, y luego calcula cuánto demora en ejecutarse la función ``multpol`` para multiplicar ambos polinomios."
   ]
  },
  {
   "cell_type": "code",
   "execution_count": 8,
   "metadata": {
    "colab": {
     "base_uri": "https://localhost:8080/",
     "height": 52
    },
    "id": "umI-Kj97D123",
    "outputId": "ae8f9bc2-638a-4de0-c5c2-437f8821232b"
   },
   "outputs": [
    {
     "name": "stdout",
     "output_type": "stream",
     "text": [
      "251 µs ± 4.11 µs per loop (mean ± std. dev. of 7 runs, 1000 loops each)\n"
     ]
    }
   ],
   "source": [
    "n = 16\n",
    "a = np.random.randint(-10, 10, n)\n",
    "b = np.random.randint(-10, 10, n)\n",
    "%timeit multpol(a,b)"
   ]
  },
  {
   "cell_type": "markdown",
   "metadata": {},
   "source": [
    "Implemente ahora un experimento para descubrir a partir de qué valor de $n$ la función ``multpol2`` es más eficiente que la función ``multpol``. Utilice valores de $n$ que sean potencias de 2 para realizar este experimento. Pruebe con al menos diez valores distintos de $n$."
   ]
  },
  {
   "cell_type": "code",
   "execution_count": 1,
   "metadata": {},
   "outputs": [],
   "source": [
    "# Implemente su experimento aqui"
   ]
  },
  {
   "cell_type": "markdown",
   "metadata": {},
   "source": [
    "[Explique los resultados de su experimento en esta celda]"
   ]
  }
 ],
 "metadata": {
  "colab": {
   "collapsed_sections": [],
   "name": "Multiplicación de polinomios.ipynb",
   "provenance": []
  },
  "kernelspec": {
   "display_name": "Python 3",
   "language": "python",
   "name": "python3"
  },
  "language_info": {
   "codemirror_mode": {
    "name": "ipython",
    "version": 3
   },
   "file_extension": ".py",
   "mimetype": "text/x-python",
   "name": "python",
   "nbconvert_exporter": "python",
   "pygments_lexer": "ipython3",
   "version": "3.8.5"
  }
 },
 "nbformat": 4,
 "nbformat_minor": 1
}
